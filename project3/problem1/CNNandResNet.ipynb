{
 "cells": [
  {
   "cell_type": "markdown",
   "metadata": {
    "deletable": true,
    "editable": true
   },
   "source": [
    "# Convolutional Networks\n",
    "So far we have worked with deep fully-connected networks, using them to explore different optimization strategies and network architectures. Fully-connected networks are a good testbed for experimentation because they are very computationally efficient, but in practice all state-of-the-art results use convolutional networks instead.\n",
    "\n",
    "First you will implement several layer types that are used in convolutional networks. You will then use these layers to train a convolutional network on the CIFAR-10 dataset."
   ]
  },
  {
   "cell_type": "code",
   "execution_count": 1,
   "metadata": {
    "collapsed": false,
    "deletable": true,
    "editable": true
   },
   "outputs": [],
   "source": [
    "# As usual, a bit of setup\n",
    "from __future__ import print_function\n",
    "import numpy as np\n",
    "import matplotlib.pyplot as plt\n",
    "from stats232a.classifiers.cnn import *\n",
    "from stats232a.classifiers.resnet import *\n",
    "from stats232a.data_utils import get_CIFAR10_data\n",
    "from stats232a.gradient_check import eval_numerical_gradient_array, eval_numerical_gradient\n",
    "from stats232a.layers import *\n",
    "from stats232a.fast_layers import *\n",
    "from stats232a.solver import Solver\n",
    "from stats232a.layer_utils import *\n",
    "\n",
    "%matplotlib inline\n",
    "plt.rcParams['figure.figsize'] = (10.0, 8.0) # set default size of plots\n",
    "plt.rcParams['image.interpolation'] = 'nearest'\n",
    "plt.rcParams['image.cmap'] = 'gray'\n",
    "\n",
    "# for auto-reloading external modules\n",
    "# see http://stackoverflow.com/questions/1907993/autoreload-of-modules-in-ipython\n",
    "%load_ext autoreload\n",
    "%autoreload 2\n",
    "\n",
    "def rel_error(x, y):\n",
    "  \"\"\" returns relative error \"\"\"\n",
    "  return np.max(np.abs(x - y) / (np.maximum(1e-8, np.abs(x) + np.abs(y))))"
   ]
  },
  {
   "cell_type": "code",
   "execution_count": 2,
   "metadata": {
    "collapsed": false,
    "deletable": true,
    "editable": true
   },
   "outputs": [
    {
     "name": "stdout",
     "output_type": "stream",
     "text": [
      "X_val:  (1000L, 3L, 32L, 32L)\n",
      "X_train:  (49000L, 3L, 32L, 32L)\n",
      "X_test:  (1000L, 3L, 32L, 32L)\n",
      "y_val:  (1000L,)\n",
      "y_train:  (49000L,)\n",
      "y_test:  (1000L,)\n"
     ]
    }
   ],
   "source": [
    "# Load the (preprocessed) CIFAR10 data.\n",
    "\n",
    "data = get_CIFAR10_data()\n",
    "for k, v in data.items():\n",
    "  print('%s: ' % k, v.shape)"
   ]
  },
  {
   "cell_type": "markdown",
   "metadata": {
    "deletable": true,
    "editable": true
   },
   "source": [
    "# Convolution: Naive forward pass\n",
    "The core of a convolutional network is the convolution operation. In the file `stats232a/layers.py`, implement the forward pass for the convolution layer in the function `conv_forward_naive`. \n",
    "\n",
    "You don't have to worry too much about efficiency at this point; just write the code in whatever way you find most clear.\n",
    "\n",
    "You can test your implementation by running the following:"
   ]
  },
  {
   "cell_type": "code",
   "execution_count": 3,
   "metadata": {
    "collapsed": false,
    "deletable": true,
    "editable": true
   },
   "outputs": [
    {
     "name": "stdout",
     "output_type": "stream",
     "text": [
      "Testing conv_forward_naive\n",
      "difference:  2.21214764175e-08\n"
     ]
    }
   ],
   "source": [
    "x_shape = (2, 3, 4, 4)\n",
    "w_shape = (3, 3, 4, 4)\n",
    "x = np.linspace(-0.1, 0.5, num=np.prod(x_shape)).reshape(x_shape)\n",
    "w = np.linspace(-0.2, 0.3, num=np.prod(w_shape)).reshape(w_shape)\n",
    "b = np.linspace(-0.1, 0.2, num=3)\n",
    "\n",
    "conv_param = {'stride': 2, 'pad': 1}\n",
    "out, _ = conv_forward_naive(x, w, b, conv_param)\n",
    "correct_out = np.array([[[[-0.08759809, -0.10987781],\n",
    "                           [-0.18387192, -0.2109216 ]],\n",
    "                          [[ 0.21027089,  0.21661097],\n",
    "                           [ 0.22847626,  0.23004637]],\n",
    "                          [[ 0.50813986,  0.54309974],\n",
    "                           [ 0.64082444,  0.67101435]]],\n",
    "                         [[[-0.98053589, -1.03143541],\n",
    "                           [-1.19128892, -1.24695841]],\n",
    "                          [[ 0.69108355,  0.66880383],\n",
    "                           [ 0.59480972,  0.56776003]],\n",
    "                          [[ 2.36270298,  2.36904306],\n",
    "                           [ 2.38090835,  2.38247847]]]])\n",
    "\n",
    "# Compare your output to ours; difference should be around 2e-8\n",
    "print('Testing conv_forward_naive')\n",
    "print('difference: ', rel_error(out, correct_out))"
   ]
  },
  {
   "cell_type": "markdown",
   "metadata": {
    "deletable": true,
    "editable": true
   },
   "source": [
    "# Convolution: Naive backward pass\n",
    "Implement the backward pass for the convolution operation in the function `conv_backward_naive` in the file `stats232a/layers.py`. Again, you don't need to worry too much about computational efficiency.\n",
    "\n",
    "When you are done, run the following to check your backward pass with a numeric gradient check."
   ]
  },
  {
   "cell_type": "code",
   "execution_count": 4,
   "metadata": {
    "collapsed": false,
    "deletable": true,
    "editable": true
   },
   "outputs": [
    {
     "name": "stdout",
     "output_type": "stream",
     "text": [
      "Testing conv_backward_naive function\n",
      "dx error:  1.15978150762e-08\n",
      "dw error:  2.24710943494e-10\n",
      "db error:  3.37268940773e-11\n"
     ]
    }
   ],
   "source": [
    "np.random.seed(231)\n",
    "x = np.random.randn(4, 3, 5, 5)\n",
    "w = np.random.randn(2, 3, 3, 3)\n",
    "b = np.random.randn(2,)\n",
    "dout = np.random.randn(4, 2, 5, 5)\n",
    "conv_param = {'stride': 1, 'pad': 1}\n",
    "\n",
    "dx_num = eval_numerical_gradient_array(lambda x: conv_forward_naive(x, w, b, conv_param)[0], x, dout)\n",
    "dw_num = eval_numerical_gradient_array(lambda w: conv_forward_naive(x, w, b, conv_param)[0], w, dout)\n",
    "db_num = eval_numerical_gradient_array(lambda b: conv_forward_naive(x, w, b, conv_param)[0], b, dout)\n",
    "\n",
    "out, cache = conv_forward_naive(x, w, b, conv_param)\n",
    "dx, dw, db = conv_backward_naive(dout, cache)\n",
    "\n",
    "# Your errors should be around 1e-8'\n",
    "print('Testing conv_backward_naive function')\n",
    "print('dx error: ', rel_error(dx, dx_num))\n",
    "print('dw error: ', rel_error(dw, dw_num))\n",
    "print('db error: ', rel_error(db, db_num))"
   ]
  },
  {
   "cell_type": "markdown",
   "metadata": {
    "deletable": true,
    "editable": true
   },
   "source": [
    "# Max pooling: Naive forward\n",
    "Implement the forward pass for the max-pooling operation in the function `max_pool_forward_naive` in the file `stats232a/layers.py`. Again, don't worry too much about computational efficiency.\n",
    "\n",
    "Check your implementation by running the following:"
   ]
  },
  {
   "cell_type": "code",
   "execution_count": 5,
   "metadata": {
    "collapsed": false,
    "deletable": true,
    "editable": true
   },
   "outputs": [
    {
     "name": "stdout",
     "output_type": "stream",
     "text": [
      "Testing max_pool_forward_naive function:\n",
      "difference:  4.16666651573e-08\n"
     ]
    }
   ],
   "source": [
    "x_shape = (2, 3, 4, 4)\n",
    "x = np.linspace(-0.3, 0.4, num=np.prod(x_shape)).reshape(x_shape)\n",
    "pool_param = {'pool_width': 2, 'pool_height': 2, 'stride': 2}\n",
    "\n",
    "out, _ = max_pool_forward_naive(x, pool_param)\n",
    "\n",
    "correct_out = np.array([[[[-0.26315789, -0.24842105],\n",
    "                          [-0.20421053, -0.18947368]],\n",
    "                         [[-0.14526316, -0.13052632],\n",
    "                          [-0.08631579, -0.07157895]],\n",
    "                         [[-0.02736842, -0.01263158],\n",
    "                          [ 0.03157895,  0.04631579]]],\n",
    "                        [[[ 0.09052632,  0.10526316],\n",
    "                          [ 0.14947368,  0.16421053]],\n",
    "                         [[ 0.20842105,  0.22315789],\n",
    "                          [ 0.26736842,  0.28210526]],\n",
    "                         [[ 0.32631579,  0.34105263],\n",
    "                          [ 0.38526316,  0.4       ]]]])\n",
    "\n",
    "# Compare your output with ours. Difference should be around 1e-8.\n",
    "print('Testing max_pool_forward_naive function:')\n",
    "print('difference: ', rel_error(out, correct_out))"
   ]
  },
  {
   "cell_type": "markdown",
   "metadata": {
    "deletable": true,
    "editable": true
   },
   "source": [
    "# Max pooling: Naive backward\n",
    "Implement the backward pass for the max-pooling operation in the function `max_pool_backward_naive` in the file `stats232a/layers.py`. You don't need to worry about computational efficiency.\n",
    "\n",
    "Check your implementation with numeric gradient checking by running the following:"
   ]
  },
  {
   "cell_type": "code",
   "execution_count": 6,
   "metadata": {
    "collapsed": false,
    "deletable": true,
    "editable": true
   },
   "outputs": [
    {
     "name": "stdout",
     "output_type": "stream",
     "text": [
      "Testing max_pool_backward_naive function:\n",
      "dx error:  3.27562514223e-12\n"
     ]
    }
   ],
   "source": [
    "np.random.seed(231)\n",
    "x = np.random.randn(3, 2, 8, 8)\n",
    "dout = np.random.randn(3, 2, 4, 4)\n",
    "pool_param = {'pool_height': 2, 'pool_width': 2, 'stride': 2}\n",
    "\n",
    "dx_num = eval_numerical_gradient_array(lambda x: max_pool_forward_naive(x, pool_param)[0], x, dout)\n",
    "\n",
    "out, cache = max_pool_forward_naive(x, pool_param)\n",
    "dx = max_pool_backward_naive(dout, cache)\n",
    "\n",
    "# Your error should be around 1e-12\n",
    "print('Testing max_pool_backward_naive function:')\n",
    "print('dx error: ', rel_error(dx, dx_num))"
   ]
  },
  {
   "cell_type": "markdown",
   "metadata": {
    "deletable": true,
    "editable": true
   },
   "source": [
    "# Fast layers\n",
    "Making convolution and pooling layers fast can be challenging. To spare you the pain, we've provided fast implementations of the forward and backward passes for convolution and pooling layers in the file `stats232a/fast_layers.py`.\n",
    "\n",
    "The fast convolution implementation depends on a Cython extension; to compile it you need to run the following from the `stats232a` directory:\n",
    "\n",
    "```bash\n",
    "python setup.py build_ext --inplace\n",
    "```\n",
    "\n",
    "The API for the fast versions of the convolution and pooling layers is exactly the same as the naive versions that you implemented above: the forward pass receives data, weights, and parameters and produces outputs and a cache object; the backward pass recieves upstream derivatives and the cache object and produces gradients with respect to the data and weights.\n",
    "\n",
    "**NOTE:** The fast implementation for pooling will only perform optimally if the pooling regions are non-overlapping and tile the input. If these conditions are not met then the fast pooling implementation will not be much faster than the naive implementation.\n",
    "\n",
    "You can compare the performance of the naive and fast versions of these layers by running the following:"
   ]
  },
  {
   "cell_type": "code",
   "execution_count": 7,
   "metadata": {
    "collapsed": false,
    "deletable": true,
    "editable": true
   },
   "outputs": [
    {
     "name": "stdout",
     "output_type": "stream",
     "text": [
      "Testing conv_forward_fast:\n",
      "Naive: 5.084000s\n",
      "Fast: 0.017000s\n",
      "Speedup: 299.055326x\n",
      "Difference:  1.97056314066e-11\n",
      "\n",
      "Testing conv_backward_fast:\n",
      "Naive: 5.748000s\n",
      "Fast: 0.015000s\n",
      "Speedup: 383.197314x\n",
      "dx difference:  2.39003424069e-11\n",
      "dw difference:  7.45187285822e-13\n",
      "db difference:  1.35807038387e-13\n"
     ]
    }
   ],
   "source": [
    "from stats232a.fast_layers import conv_forward_fast, conv_backward_fast\n",
    "from time import time\n",
    "np.random.seed(231)\n",
    "x = np.random.randn(100, 3, 31, 31)\n",
    "w = np.random.randn(25, 3, 3, 3)\n",
    "b = np.random.randn(25,)\n",
    "dout = np.random.randn(100, 25, 16, 16)\n",
    "conv_param = {'stride': 2, 'pad': 1}\n",
    "\n",
    "t0 = time()\n",
    "out_naive, cache_naive = conv_forward_naive(x, w, b, conv_param)\n",
    "t1 = time()\n",
    "out_fast, cache_fast = conv_forward_fast(x, w, b, conv_param)\n",
    "t2 = time()\n",
    "\n",
    "print('Testing conv_forward_fast:')\n",
    "print('Naive: %fs' % (t1 - t0))\n",
    "print('Fast: %fs' % (t2 - t1))\n",
    "print('Speedup: %fx' % ((t1 - t0) / (t2 - t1)))\n",
    "print('Difference: ', rel_error(out_naive, out_fast))\n",
    "\n",
    "t0 = time()\n",
    "dx_naive, dw_naive, db_naive = conv_backward_naive(dout, cache_naive)\n",
    "t1 = time()\n",
    "dx_fast, dw_fast, db_fast = conv_backward_fast(dout, cache_fast)\n",
    "t2 = time()\n",
    "\n",
    "print('\\nTesting conv_backward_fast:')\n",
    "print('Naive: %fs' % (t1 - t0))\n",
    "print('Fast: %fs' % (t2 - t1))\n",
    "print('Speedup: %fx' % ((t1 - t0) / (t2 - t1)))\n",
    "print('dx difference: ', rel_error(dx_naive, dx_fast))\n",
    "print('dw difference: ', rel_error(dw_naive, dw_fast))\n",
    "print('db difference: ', rel_error(db_naive, db_fast))"
   ]
  },
  {
   "cell_type": "code",
   "execution_count": 8,
   "metadata": {
    "collapsed": false,
    "deletable": true,
    "editable": true
   },
   "outputs": [
    {
     "name": "stdout",
     "output_type": "stream",
     "text": [
      "Testing pool_forward_fast:\n",
      "Naive: 0.296000s\n",
      "fast: 0.003000s\n",
      "speedup: 98.665978x\n",
      "difference:  0.0\n",
      "\n",
      "Testing pool_backward_fast:\n",
      "Naive: 0.415000s\n",
      "speedup: 31.923046x\n",
      "dx difference:  0.0\n"
     ]
    }
   ],
   "source": [
    "from stats232a.fast_layers import max_pool_forward_fast, max_pool_backward_fast\n",
    "np.random.seed(231)\n",
    "x = np.random.randn(100, 3, 32, 32)\n",
    "dout = np.random.randn(100, 3, 16, 16)\n",
    "pool_param = {'pool_height': 2, 'pool_width': 2, 'stride': 2}\n",
    "\n",
    "t0 = time()\n",
    "out_naive, cache_naive = max_pool_forward_naive(x, pool_param)\n",
    "t1 = time()\n",
    "out_fast, cache_fast = max_pool_forward_fast(x, pool_param)\n",
    "t2 = time()\n",
    "\n",
    "print('Testing pool_forward_fast:')\n",
    "print('Naive: %fs' % (t1 - t0))\n",
    "print('fast: %fs' % (t2 - t1))\n",
    "print('speedup: %fx' % ((t1 - t0) / (t2 - t1)))\n",
    "print('difference: ', rel_error(out_naive, out_fast))\n",
    "\n",
    "t0 = time()\n",
    "dx_naive = max_pool_backward_naive(dout, cache_naive)\n",
    "t1 = time()\n",
    "dx_fast = max_pool_backward_fast(dout, cache_fast)\n",
    "t2 = time()\n",
    "\n",
    "print('\\nTesting pool_backward_fast:')\n",
    "print('Naive: %fs' % (t1 - t0))\n",
    "print('speedup: %fx' % ((t1 - t0) / (t2 - t1)))\n",
    "print('dx difference: ', rel_error(dx_naive, dx_fast))"
   ]
  },
  {
   "cell_type": "markdown",
   "metadata": {
    "deletable": true,
    "editable": true
   },
   "source": [
    "# Convolutional \"sandwich\" layers\n",
    "Previously we introduced the concept of \"sandwich\" layers that combine multiple operations into commonly used patterns. In the file `stats232a/layer_utils.py` you will find sandwich layers that implement a few commonly used patterns for convolutional networks."
   ]
  },
  {
   "cell_type": "code",
   "execution_count": 9,
   "metadata": {
    "collapsed": false,
    "deletable": true,
    "editable": true
   },
   "outputs": [
    {
     "name": "stdout",
     "output_type": "stream",
     "text": [
      "Testing conv_relu_pool\n",
      "dx error:  4.39750283427e-09\n",
      "dw error:  3.65167381537e-09\n",
      "db error:  3.72167075082e-10\n"
     ]
    }
   ],
   "source": [
    "from stats232a.layer_utils import conv_relu_pool_forward, conv_relu_pool_backward\n",
    "np.random.seed(231)\n",
    "x = np.random.randn(2, 3, 16, 16)\n",
    "w = np.random.randn(3, 3, 3, 3)\n",
    "b = np.random.randn(3,)\n",
    "dout = np.random.randn(2, 3, 8, 8)\n",
    "conv_param = {'stride': 1, 'pad': 1}\n",
    "pool_param = {'pool_height': 2, 'pool_width': 2, 'stride': 2}\n",
    "\n",
    "out, cache = conv_relu_pool_forward(x, w, b, conv_param, pool_param)\n",
    "dx, dw, db = conv_relu_pool_backward(dout, cache)\n",
    "\n",
    "dx_num = eval_numerical_gradient_array(lambda x: conv_relu_pool_forward(x, w, b, conv_param, pool_param)[0], x, dout)\n",
    "dw_num = eval_numerical_gradient_array(lambda w: conv_relu_pool_forward(x, w, b, conv_param, pool_param)[0], w, dout)\n",
    "db_num = eval_numerical_gradient_array(lambda b: conv_relu_pool_forward(x, w, b, conv_param, pool_param)[0], b, dout)\n",
    "\n",
    "print('Testing conv_relu_pool')\n",
    "print('dx error: ', rel_error(dx_num, dx))\n",
    "print('dw error: ', rel_error(dw_num, dw))\n",
    "print('db error: ', rel_error(db_num, db))"
   ]
  },
  {
   "cell_type": "code",
   "execution_count": 10,
   "metadata": {
    "collapsed": false,
    "deletable": true,
    "editable": true
   },
   "outputs": [
    {
     "name": "stdout",
     "output_type": "stream",
     "text": [
      "Testing conv_relu:\n",
      "dx error:  3.61340388319e-09\n",
      "dw error:  3.45065303639e-10\n",
      "db error:  1.27719707595e-10\n"
     ]
    }
   ],
   "source": [
    "from stats232a.layer_utils import conv_relu_forward, conv_relu_backward\n",
    "np.random.seed(231)\n",
    "x = np.random.randn(2, 3, 8, 8)\n",
    "w = np.random.randn(3, 3, 3, 3)\n",
    "b = np.random.randn(3,)\n",
    "dout = np.random.randn(2, 3, 8, 8)\n",
    "conv_param = {'stride': 1, 'pad': 1}\n",
    "\n",
    "out, cache = conv_relu_forward(x, w, b, conv_param)\n",
    "dx, dw, db = conv_relu_backward(dout, cache)\n",
    "\n",
    "dx_num = eval_numerical_gradient_array(lambda x: conv_relu_forward(x, w, b, conv_param)[0], x, dout)\n",
    "dw_num = eval_numerical_gradient_array(lambda w: conv_relu_forward(x, w, b, conv_param)[0], w, dout)\n",
    "db_num = eval_numerical_gradient_array(lambda b: conv_relu_forward(x, w, b, conv_param)[0], b, dout)\n",
    "\n",
    "print('Testing conv_relu:')\n",
    "print('dx error: ', rel_error(dx_num, dx))\n",
    "print('dw error: ', rel_error(dw_num, dw))\n",
    "print('db error: ', rel_error(db_num, db))"
   ]
  },
  {
   "cell_type": "markdown",
   "metadata": {
    "deletable": true,
    "editable": true
   },
   "source": [
    "# Three-layer ConvNet\n",
    "Now that you have implemented all the necessary layers, we can put them together into a simple convolutional network.\n",
    "\n",
    "Open the file `stats232a/classifiers/cnn.py` and complete the implementation of the `ThreeLayerConvNet` class. Run the following cells to help you debug:"
   ]
  },
  {
   "cell_type": "markdown",
   "metadata": {
    "deletable": true,
    "editable": true
   },
   "source": [
    "## Sanity check loss\n",
    "After you build a new network, one of the first things you should do is sanity check the loss. When we use the softmax loss, we expect the loss for random weights (and no regularization) to be about `log(C)` for `C` classes. When we add regularization this should go up."
   ]
  },
  {
   "cell_type": "code",
   "execution_count": 12,
   "metadata": {
    "collapsed": false,
    "deletable": true,
    "editable": true
   },
   "outputs": [
    {
     "name": "stdout",
     "output_type": "stream",
     "text": [
      "Initial loss (no regularization):  2.30258541218\n",
      "Initial loss (with regularization):  2.50854248476\n"
     ]
    }
   ],
   "source": [
    "model = ThreeLayerConvNet()\n",
    "\n",
    "N = 50\n",
    "X = np.random.randn(N, 3, 32, 32)\n",
    "y = np.random.randint(10, size=N)\n",
    "\n",
    "loss, grads = model.loss(X, y)\n",
    "print('Initial loss (no regularization): ', loss)\n",
    "\n",
    "model.reg = 0.5\n",
    "loss, grads = model.loss(X, y)\n",
    "print('Initial loss (with regularization): ', loss)"
   ]
  },
  {
   "cell_type": "markdown",
   "metadata": {
    "deletable": true,
    "editable": true
   },
   "source": [
    "## Gradient check\n",
    "After the loss looks reasonable, use numeric gradient checking to make sure that your backward pass is correct. When you use numeric gradient checking you should use a small amount of artifical data and a small number of neurons at each layer. Note: correct implementations may still have relative errors up to 1e-2."
   ]
  },
  {
   "cell_type": "code",
   "execution_count": 13,
   "metadata": {
    "collapsed": false,
    "deletable": true,
    "editable": true
   },
   "outputs": [
    {
     "name": "stdout",
     "output_type": "stream",
     "text": [
      "W1 max relative error: 1.380104e-04\n",
      "W2 max relative error: 1.822723e-02\n",
      "W3 max relative error: 3.064049e-04\n",
      "b1 max relative error: 3.477652e-05\n",
      "b2 max relative error: 2.516375e-03\n",
      "b3 max relative error: 7.945660e-10\n"
     ]
    }
   ],
   "source": [
    "num_inputs = 2\n",
    "input_dim = (3, 16, 16)\n",
    "reg = 0.0\n",
    "num_classes = 10\n",
    "np.random.seed(231)\n",
    "X = np.random.randn(num_inputs, *input_dim)\n",
    "y = np.random.randint(num_classes, size=num_inputs)\n",
    "\n",
    "model = ThreeLayerConvNet(num_filters=3, filter_size=3,\n",
    "                          input_dim=input_dim, hidden_dim=7,\n",
    "                          dtype=np.float64)\n",
    "loss, grads = model.loss(X, y)\n",
    "for param_name in sorted(grads):\n",
    "    f = lambda _: model.loss(X, y)[0]\n",
    "    param_grad_num = eval_numerical_gradient(f, model.params[param_name], verbose=False, h=1e-6)\n",
    "    e = rel_error(param_grad_num, grads[param_name])\n",
    "    print('%s max relative error: %e' % (param_name, rel_error(param_grad_num, grads[param_name])))"
   ]
  },
  {
   "cell_type": "markdown",
   "metadata": {
    "deletable": true,
    "editable": true
   },
   "source": [
    "## Overfit small data\n",
    "A nice trick is to train your model with just a few training samples. You should be able to overfit small datasets, which will result in very high training accuracy and comparatively low validation accuracy."
   ]
  },
  {
   "cell_type": "code",
   "execution_count": 14,
   "metadata": {
    "collapsed": false,
    "deletable": true,
    "editable": true
   },
   "outputs": [
    {
     "name": "stdout",
     "output_type": "stream",
     "text": [
      "(Epoch 0 / 15, iteration 1 / 30) train acc: 0.190000; val_acc: 0.128000\n",
      "(Epoch 1 / 15, iteration 2 / 30) train acc: 0.230000; val_acc: 0.094000\n",
      "(Epoch 1 / 15, iteration 3 / 30) train acc: 0.380000; val_acc: 0.147000\n",
      "(Epoch 2 / 15, iteration 4 / 30) train acc: 0.310000; val_acc: 0.098000\n",
      "(Epoch 2 / 15, iteration 5 / 30) train acc: 0.490000; val_acc: 0.174000\n",
      "(Epoch 3 / 15, iteration 6 / 30) train acc: 0.570000; val_acc: 0.191000\n",
      "(Epoch 3 / 15, iteration 7 / 30) train acc: 0.610000; val_acc: 0.193000\n",
      "(Epoch 4 / 15, iteration 8 / 30) train acc: 0.570000; val_acc: 0.194000\n",
      "(Epoch 4 / 15, iteration 9 / 30) train acc: 0.560000; val_acc: 0.169000\n",
      "(Epoch 5 / 15, iteration 10 / 30) train acc: 0.740000; val_acc: 0.188000\n",
      "(Epoch 5 / 15, iteration 11 / 30) train acc: 0.770000; val_acc: 0.216000\n",
      "(Epoch 6 / 15, iteration 12 / 30) train acc: 0.820000; val_acc: 0.256000\n",
      "(Epoch 6 / 15, iteration 13 / 30) train acc: 0.850000; val_acc: 0.242000\n",
      "(Epoch 7 / 15, iteration 14 / 30) train acc: 0.860000; val_acc: 0.236000\n",
      "(Epoch 7 / 15, iteration 15 / 30) train acc: 0.880000; val_acc: 0.212000\n",
      "(Epoch 8 / 15, iteration 16 / 30) train acc: 0.910000; val_acc: 0.194000\n",
      "(Epoch 8 / 15, iteration 17 / 30) train acc: 0.910000; val_acc: 0.174000\n",
      "(Epoch 9 / 15, iteration 18 / 30) train acc: 0.910000; val_acc: 0.169000\n",
      "(Epoch 9 / 15, iteration 19 / 30) train acc: 0.910000; val_acc: 0.179000\n",
      "(Epoch 10 / 15, iteration 20 / 30) train acc: 0.940000; val_acc: 0.199000\n",
      "(Epoch 10 / 15, iteration 21 / 30) train acc: 0.940000; val_acc: 0.214000\n",
      "(Epoch 11 / 15, iteration 22 / 30) train acc: 0.940000; val_acc: 0.213000\n",
      "(Epoch 11 / 15, iteration 23 / 30) train acc: 0.930000; val_acc: 0.204000\n",
      "(Epoch 12 / 15, iteration 24 / 30) train acc: 0.970000; val_acc: 0.204000\n",
      "(Epoch 12 / 15, iteration 25 / 30) train acc: 0.990000; val_acc: 0.214000\n",
      "(Epoch 13 / 15, iteration 26 / 30) train acc: 1.000000; val_acc: 0.207000\n",
      "(Epoch 13 / 15, iteration 27 / 30) train acc: 1.000000; val_acc: 0.198000\n",
      "(Epoch 14 / 15, iteration 28 / 30) train acc: 1.000000; val_acc: 0.209000\n",
      "(Epoch 14 / 15, iteration 29 / 30) train acc: 1.000000; val_acc: 0.214000\n",
      "(Epoch 15 / 15, iteration 30 / 30) train acc: 1.000000; val_acc: 0.209000\n"
     ]
    }
   ],
   "source": [
    "np.random.seed(231)\n",
    "\n",
    "num_train = 100\n",
    "small_data = {\n",
    "  'X_train': data['X_train'][:num_train],\n",
    "  'y_train': data['y_train'][:num_train],\n",
    "  'X_val': data['X_val'],\n",
    "  'y_val': data['y_val'],\n",
    "}\n",
    "\n",
    "model = ThreeLayerConvNet(weight_scale=1e-2)\n",
    "\n",
    "solver = Solver(model, small_data,\n",
    "                num_epochs=15, batch_size=50,\n",
    "                update_rule='adam',\n",
    "                optim_config={\n",
    "                  'learning_rate': 1e-3,\n",
    "                },\n",
    "                verbose=True, print_every=1)\n",
    "solver.train()"
   ]
  },
  {
   "cell_type": "markdown",
   "metadata": {
    "deletable": true,
    "editable": true
   },
   "source": [
    "Plotting the loss, training accuracy, and validation accuracy should show clear overfitting:"
   ]
  },
  {
   "cell_type": "code",
   "execution_count": 15,
   "metadata": {
    "collapsed": false,
    "deletable": true,
    "editable": true
   },
   "outputs": [
    {
     "data": {
      "image/png": "[encoded data removed]",
      "text/plain": [
       "<matplotlib.figure.Figure at 0x8ee24a8>"
      ]
     },
     "metadata": {},
     "output_type": "display_data"
    }
   ],
   "source": [
    "plt.subplot(2, 1, 1)\n",
    "plt.plot(solver.loss_history, 'o')\n",
    "plt.xlabel('iteration')\n",
    "plt.ylabel('loss')\n",
    "\n",
    "plt.subplot(2, 1, 2)\n",
    "plt.plot(solver.train_acc_history, '-o')\n",
    "plt.plot(solver.val_acc_history, '-o')\n",
    "plt.legend(['train', 'val'], loc='upper left')\n",
    "plt.xlabel('epoch')\n",
    "plt.ylabel('accuracy')\n",
    "plt.show()"
   ]
  },
  {
   "cell_type": "markdown",
   "metadata": {
    "deletable": true,
    "editable": true
   },
   "source": [
    "## Train the net\n",
    "By training the three-layer convolutional network for one epoch, you should achieve greater than 40% accuracy on the training set:"
   ]
  },
  {
   "cell_type": "code",
   "execution_count": 16,
   "metadata": {
    "collapsed": false,
    "deletable": true,
    "editable": true,
    "scrolled": false
   },
   "outputs": [
    {
     "name": "stdout",
     "output_type": "stream",
     "text": [
      "(Epoch 0 / 1, iteration 1 / 980) train acc: 0.099000; val_acc: 0.119000\n",
      "(Epoch 0 / 1, iteration 21 / 980) train acc: 0.242000; val_acc: 0.233000\n",
      "(Epoch 0 / 1, iteration 41 / 980) train acc: 0.247000; val_acc: 0.266000\n",
      "(Epoch 0 / 1, iteration 61 / 980) train acc: 0.273000; val_acc: 0.283000\n",
      "(Epoch 0 / 1, iteration 81 / 980) train acc: 0.334000; val_acc: 0.348000\n",
      "(Epoch 0 / 1, iteration 101 / 980) train acc: 0.326000; val_acc: 0.361000\n",
      "(Epoch 0 / 1, iteration 121 / 980) train acc: 0.354000; val_acc: 0.350000\n",
      "(Epoch 0 / 1, iteration 141 / 980) train acc: 0.362000; val_acc: 0.367000\n",
      "(Epoch 0 / 1, iteration 161 / 980) train acc: 0.367000; val_acc: 0.373000\n",
      "(Epoch 0 / 1, iteration 181 / 980) train acc: 0.334000; val_acc: 0.373000\n",
      "(Epoch 0 / 1, iteration 201 / 980) train acc: 0.382000; val_acc: 0.375000\n",
      "(Epoch 0 / 1, iteration 221 / 980) train acc: 0.357000; val_acc: 0.368000\n",
      "(Epoch 0 / 1, iteration 241 / 980) train acc: 0.367000; val_acc: 0.377000\n",
      "(Epoch 0 / 1, iteration 261 / 980) train acc: 0.323000; val_acc: 0.376000\n",
      "(Epoch 0 / 1, iteration 281 / 980) train acc: 0.362000; val_acc: 0.388000\n",
      "(Epoch 0 / 1, iteration 301 / 980) train acc: 0.377000; val_acc: 0.411000\n",
      "(Epoch 0 / 1, iteration 321 / 980) train acc: 0.398000; val_acc: 0.376000\n",
      "(Epoch 0 / 1, iteration 341 / 980) train acc: 0.389000; val_acc: 0.371000\n",
      "(Epoch 0 / 1, iteration 361 / 980) train acc: 0.346000; val_acc: 0.394000\n",
      "(Epoch 0 / 1, iteration 381 / 980) train acc: 0.350000; val_acc: 0.350000\n",
      "(Epoch 0 / 1, iteration 401 / 980) train acc: 0.399000; val_acc: 0.393000\n",
      "(Epoch 0 / 1, iteration 421 / 980) train acc: 0.367000; val_acc: 0.409000\n",
      "(Epoch 0 / 1, iteration 441 / 980) train acc: 0.416000; val_acc: 0.445000\n",
      "(Epoch 0 / 1, iteration 461 / 980) train acc: 0.365000; val_acc: 0.400000\n",
      "(Epoch 0 / 1, iteration 481 / 980) train acc: 0.426000; val_acc: 0.426000\n",
      "(Epoch 0 / 1, iteration 501 / 980) train acc: 0.401000; val_acc: 0.418000\n",
      "(Epoch 0 / 1, iteration 521 / 980) train acc: 0.375000; val_acc: 0.419000\n",
      "(Epoch 0 / 1, iteration 541 / 980) train acc: 0.400000; val_acc: 0.444000\n",
      "(Epoch 0 / 1, iteration 561 / 980) train acc: 0.426000; val_acc: 0.439000\n",
      "(Epoch 0 / 1, iteration 581 / 980) train acc: 0.377000; val_acc: 0.415000\n",
      "(Epoch 0 / 1, iteration 601 / 980) train acc: 0.413000; val_acc: 0.433000\n",
      "(Epoch 0 / 1, iteration 621 / 980) train acc: 0.426000; val_acc: 0.453000\n",
      "(Epoch 0 / 1, iteration 641 / 980) train acc: 0.403000; val_acc: 0.426000\n",
      "(Epoch 0 / 1, iteration 661 / 980) train acc: 0.427000; val_acc: 0.454000\n",
      "(Epoch 0 / 1, iteration 681 / 980) train acc: 0.426000; val_acc: 0.462000\n",
      "(Epoch 0 / 1, iteration 701 / 980) train acc: 0.387000; val_acc: 0.386000\n",
      "(Epoch 0 / 1, iteration 721 / 980) train acc: 0.444000; val_acc: 0.456000\n",
      "(Epoch 0 / 1, iteration 741 / 980) train acc: 0.453000; val_acc: 0.462000\n",
      "(Epoch 0 / 1, iteration 761 / 980) train acc: 0.433000; val_acc: 0.441000\n",
      "(Epoch 0 / 1, iteration 781 / 980) train acc: 0.433000; val_acc: 0.449000\n",
      "(Epoch 0 / 1, iteration 801 / 980) train acc: 0.429000; val_acc: 0.444000\n",
      "(Epoch 0 / 1, iteration 821 / 980) train acc: 0.421000; val_acc: 0.446000\n",
      "(Epoch 0 / 1, iteration 841 / 980) train acc: 0.455000; val_acc: 0.482000\n",
      "(Epoch 0 / 1, iteration 861 / 980) train acc: 0.433000; val_acc: 0.424000\n",
      "(Epoch 0 / 1, iteration 881 / 980) train acc: 0.458000; val_acc: 0.465000\n",
      "(Epoch 0 / 1, iteration 901 / 980) train acc: 0.473000; val_acc: 0.457000\n",
      "(Epoch 0 / 1, iteration 921 / 980) train acc: 0.431000; val_acc: 0.455000\n",
      "(Epoch 0 / 1, iteration 941 / 980) train acc: 0.457000; val_acc: 0.459000\n",
      "(Epoch 0 / 1, iteration 961 / 980) train acc: 0.418000; val_acc: 0.446000\n",
      "(Epoch 1 / 1, iteration 980 / 980) train acc: 0.400000; val_acc: 0.416000\n"
     ]
    }
   ],
   "source": [
    "model = ThreeLayerConvNet(reg=0.001)\n",
    "\n",
    "solver = Solver(model, data,\n",
    "                num_epochs=1, batch_size=50,\n",
    "                update_rule='adam',\n",
    "                optim_config={\n",
    "                  'learning_rate': 1e-3,\n",
    "                },\n",
    "                verbose=True, print_every=20)\n",
    "solver.train()"
   ]
  },
  {
   "cell_type": "markdown",
   "metadata": {
    "deletable": true,
    "editable": true
   },
   "source": [
    "## Visualize Filters\n",
    "You can visualize the first-layer convolutional filters from the trained network by running the following:"
   ]
  },
  {
   "cell_type": "code",
   "execution_count": 17,
   "metadata": {
    "collapsed": false,
    "deletable": true,
    "editable": true
   },
   "outputs": [
    {
     "data": {
      "image/png": "[encoded data removed]",
      "text/plain": [
       "<matplotlib.figure.Figure at 0x27d7550>"
      ]
     },
     "metadata": {},
     "output_type": "display_data"
    }
   ],
   "source": [
    "from stats232a.vis_utils import visualize_grid\n",
    "\n",
    "grid = visualize_grid(model.params['W1'].transpose(0, 2, 3, 1))\n",
    "plt.imshow(grid.astype('uint8'))\n",
    "plt.axis('off')\n",
    "plt.gcf().set_size_inches(5, 5)\n",
    "plt.show()"
   ]
  },
  {
   "cell_type": "markdown",
   "metadata": {},
   "source": [
    "# Residual Net\n",
    "Now let's try to build a residual network with one residual block.\n",
    "\n",
    "Open the file `stats232a/classifiers/resnet.py` and complete the implementation of the `OneBlockResnet` class. Again firstly try to train your model with just a few training samples. You should be able to overfit small datasets by the following check:"
   ]
  },
  {
   "cell_type": "code",
   "execution_count": 22,
   "metadata": {
    "collapsed": false
   },
   "outputs": [
    {
     "name": "stdout",
     "output_type": "stream",
     "text": [
      "(Epoch 0 / 25, iteration 1 / 50) train acc: 0.250000; val_acc: 0.107000\n",
      "(Epoch 1 / 25, iteration 2 / 50) train acc: 0.170000; val_acc: 0.113000\n",
      "(Epoch 1 / 25, iteration 3 / 50) train acc: 0.110000; val_acc: 0.107000\n",
      "(Epoch 2 / 25, iteration 4 / 50) train acc: 0.270000; val_acc: 0.129000\n",
      "(Epoch 2 / 25, iteration 5 / 50) train acc: 0.320000; val_acc: 0.149000\n",
      "(Epoch 3 / 25, iteration 6 / 50) train acc: 0.270000; val_acc: 0.120000\n",
      "(Epoch 3 / 25, iteration 7 / 50) train acc: 0.230000; val_acc: 0.132000\n",
      "(Epoch 4 / 25, iteration 8 / 50) train acc: 0.270000; val_acc: 0.137000\n",
      "(Epoch 4 / 25, iteration 9 / 50) train acc: 0.260000; val_acc: 0.145000\n",
      "(Epoch 5 / 25, iteration 10 / 50) train acc: 0.260000; val_acc: 0.143000\n",
      "(Epoch 5 / 25, iteration 11 / 50) train acc: 0.270000; val_acc: 0.142000\n",
      "(Epoch 6 / 25, iteration 12 / 50) train acc: 0.270000; val_acc: 0.145000\n",
      "(Epoch 6 / 25, iteration 13 / 50) train acc: 0.250000; val_acc: 0.146000\n",
      "(Epoch 7 / 25, iteration 14 / 50) train acc: 0.260000; val_acc: 0.156000\n",
      "(Epoch 7 / 25, iteration 15 / 50) train acc: 0.290000; val_acc: 0.162000\n",
      "(Epoch 8 / 25, iteration 16 / 50) train acc: 0.370000; val_acc: 0.177000\n",
      "(Epoch 8 / 25, iteration 17 / 50) train acc: 0.500000; val_acc: 0.177000\n",
      "(Epoch 9 / 25, iteration 18 / 50) train acc: 0.550000; val_acc: 0.174000\n",
      "(Epoch 9 / 25, iteration 19 / 50) train acc: 0.590000; val_acc: 0.164000\n",
      "(Epoch 10 / 25, iteration 20 / 50) train acc: 0.600000; val_acc: 0.173000\n",
      "(Epoch 10 / 25, iteration 21 / 50) train acc: 0.640000; val_acc: 0.170000\n",
      "(Epoch 11 / 25, iteration 22 / 50) train acc: 0.620000; val_acc: 0.161000\n",
      "(Epoch 11 / 25, iteration 23 / 50) train acc: 0.690000; val_acc: 0.165000\n",
      "(Epoch 12 / 25, iteration 24 / 50) train acc: 0.730000; val_acc: 0.170000\n",
      "(Epoch 12 / 25, iteration 25 / 50) train acc: 0.720000; val_acc: 0.185000\n",
      "(Epoch 13 / 25, iteration 26 / 50) train acc: 0.750000; val_acc: 0.170000\n",
      "(Epoch 13 / 25, iteration 27 / 50) train acc: 0.810000; val_acc: 0.153000\n",
      "(Epoch 14 / 25, iteration 28 / 50) train acc: 0.760000; val_acc: 0.169000\n",
      "(Epoch 14 / 25, iteration 29 / 50) train acc: 0.790000; val_acc: 0.180000\n",
      "(Epoch 15 / 25, iteration 30 / 50) train acc: 0.830000; val_acc: 0.186000\n",
      "(Epoch 15 / 25, iteration 31 / 50) train acc: 0.900000; val_acc: 0.193000\n",
      "(Epoch 16 / 25, iteration 32 / 50) train acc: 0.850000; val_acc: 0.190000\n",
      "(Epoch 16 / 25, iteration 33 / 50) train acc: 0.850000; val_acc: 0.183000\n",
      "(Epoch 17 / 25, iteration 34 / 50) train acc: 0.900000; val_acc: 0.190000\n",
      "(Epoch 17 / 25, iteration 35 / 50) train acc: 0.930000; val_acc: 0.211000\n",
      "(Epoch 18 / 25, iteration 36 / 50) train acc: 0.950000; val_acc: 0.205000\n",
      "(Epoch 18 / 25, iteration 37 / 50) train acc: 0.930000; val_acc: 0.203000\n",
      "(Epoch 19 / 25, iteration 38 / 50) train acc: 0.940000; val_acc: 0.188000\n",
      "(Epoch 19 / 25, iteration 39 / 50) train acc: 0.980000; val_acc: 0.180000\n",
      "(Epoch 20 / 25, iteration 40 / 50) train acc: 1.000000; val_acc: 0.170000\n",
      "(Epoch 20 / 25, iteration 41 / 50) train acc: 1.000000; val_acc: 0.175000\n",
      "(Epoch 21 / 25, iteration 42 / 50) train acc: 1.000000; val_acc: 0.178000\n",
      "(Epoch 21 / 25, iteration 43 / 50) train acc: 1.000000; val_acc: 0.189000\n",
      "(Epoch 22 / 25, iteration 44 / 50) train acc: 1.000000; val_acc: 0.196000\n",
      "(Epoch 22 / 25, iteration 45 / 50) train acc: 1.000000; val_acc: 0.199000\n",
      "(Epoch 23 / 25, iteration 46 / 50) train acc: 1.000000; val_acc: 0.196000\n",
      "(Epoch 23 / 25, iteration 47 / 50) train acc: 1.000000; val_acc: 0.193000\n",
      "(Epoch 24 / 25, iteration 48 / 50) train acc: 0.990000; val_acc: 0.193000\n",
      "(Epoch 24 / 25, iteration 49 / 50) train acc: 1.000000; val_acc: 0.192000\n",
      "(Epoch 25 / 25, iteration 50 / 50) train acc: 1.000000; val_acc: 0.189000\n"
     ]
    }
   ],
   "source": [
    "np.random.seed(231)\n",
    "\n",
    "num_train = 100\n",
    "small_data = {\n",
    "  'X_train': data['X_train'][:num_train],\n",
    "  'y_train': data['y_train'][:num_train],\n",
    "  'X_val': data['X_val'],\n",
    "  'y_val': data['y_val'],\n",
    "}\n",
    "\n",
    "model = OneBlockResnet(weight_scale=1e-2)\n",
    "\n",
    "solver = Solver(model, small_data,\n",
    "                num_epochs=25, batch_size=50,\n",
    "                update_rule='adam',\n",
    "                optim_config={\n",
    "                  'learning_rate': 1e-3,\n",
    "                },\n",
    "                verbose=True, print_every=2)\n",
    "solver.train()"
   ]
  },
  {
   "cell_type": "markdown",
   "metadata": {},
   "source": [
    "## Train the net\n",
    "By training the residual network for one epoch, you should achieve greater than 50% accuracy on the validation set:"
   ]
  },
  {
   "cell_type": "code",
   "execution_count": 23,
   "metadata": {
    "collapsed": false
   },
   "outputs": [
    {
     "name": "stdout",
     "output_type": "stream",
     "text": [
      "(Epoch 0 / 1, iteration 1 / 980) train acc: 0.113000; val_acc: 0.117000\n",
      "(Epoch 0 / 1, iteration 51 / 980) train acc: 0.265000; val_acc: 0.273000\n",
      "(Epoch 0 / 1, iteration 101 / 980) train acc: 0.327000; val_acc: 0.331000\n",
      "(Epoch 0 / 1, iteration 151 / 980) train acc: 0.348000; val_acc: 0.345000\n",
      "(Epoch 0 / 1, iteration 201 / 980) train acc: 0.387000; val_acc: 0.412000\n",
      "(Epoch 0 / 1, iteration 251 / 980) train acc: 0.413000; val_acc: 0.447000\n",
      "(Epoch 0 / 1, iteration 301 / 980) train acc: 0.425000; val_acc: 0.445000\n",
      "(Epoch 0 / 1, iteration 351 / 980) train acc: 0.412000; val_acc: 0.436000\n",
      "(Epoch 0 / 1, iteration 401 / 980) train acc: 0.415000; val_acc: 0.452000\n",
      "(Epoch 0 / 1, iteration 451 / 980) train acc: 0.443000; val_acc: 0.430000\n",
      "(Epoch 0 / 1, iteration 501 / 980) train acc: 0.472000; val_acc: 0.447000\n",
      "(Epoch 0 / 1, iteration 551 / 980) train acc: 0.466000; val_acc: 0.477000\n",
      "(Epoch 0 / 1, iteration 601 / 980) train acc: 0.482000; val_acc: 0.464000\n",
      "(Epoch 0 / 1, iteration 651 / 980) train acc: 0.484000; val_acc: 0.478000\n",
      "(Epoch 0 / 1, iteration 701 / 980) train acc: 0.471000; val_acc: 0.486000\n",
      "(Epoch 0 / 1, iteration 751 / 980) train acc: 0.512000; val_acc: 0.504000\n",
      "(Epoch 0 / 1, iteration 801 / 980) train acc: 0.505000; val_acc: 0.509000\n",
      "(Epoch 0 / 1, iteration 851 / 980) train acc: 0.494000; val_acc: 0.500000\n",
      "(Epoch 0 / 1, iteration 901 / 980) train acc: 0.513000; val_acc: 0.499000\n",
      "(Epoch 0 / 1, iteration 951 / 980) train acc: 0.497000; val_acc: 0.494000\n",
      "(Epoch 1 / 1, iteration 980 / 980) train acc: 0.559000; val_acc: 0.523000\n"
     ]
    }
   ],
   "source": [
    "model = OneBlockResnet(reg=0.001)\n",
    "\n",
    "solver = Solver(model, data,\n",
    "                num_epochs=1, batch_size=50,\n",
    "                update_rule='adam',\n",
    "                optim_config={\n",
    "                  'learning_rate': 1e-3,\n",
    "                },\n",
    "                verbose=True, print_every=50)\n",
    "solver.train()"
   ]
  },
  {
   "cell_type": "code",
   "execution_count": null,
   "metadata": {
    "collapsed": true
   },
   "outputs": [],
   "source": []
  }
 ],
 "metadata": {
  "anaconda-cloud": {},
  "kernelspec": {
   "display_name": "Python [conda root]",
   "language": "python",
   "name": "conda-root-py"
  },
  "language_info": {
   "codemirror_mode": {
    "name": "ipython",
    "version": 2
   },
   "file_extension": ".py",
   "mimetype": "text/x-python",
   "name": "python",
   "nbconvert_exporter": "python",
   "pygments_lexer": "ipython2",
   "version": "2.7.12"
  }
 },
 "nbformat": 4,
 "nbformat_minor": 0
}
